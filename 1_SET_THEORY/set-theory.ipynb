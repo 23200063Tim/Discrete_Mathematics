{
 "cells": [
  {
   "cell_type": "code",
   "execution_count": 3,
   "metadata": {},
   "outputs": [],
   "source": [
    "from matplotlib_venn import venn2, venn2_circles, venn2_unweighted\n",
    "from matplotlib_venn import venn3, venn3_circles\n",
    "from matplotlib import *\n",
    "from matplotlib import pyplot as plt\n",
    "#import pandas as pd\n",
    "import random\n",
    "%matplotlib inline  "
   ]
  },
  {
   "cell_type": "code",
   "execution_count": 4,
   "metadata": {},
   "outputs": [],
   "source": [
    "def drawVenn2(A,B,labels = ('A', 'B')):\n",
    "    v2=venn2([A,B],set_labels = labels);\n",
    "    v2.get_label_by_id('01').set_text(', '.join(map(str,B-A)))\n",
    "    v2.get_label_by_id('10').set_text(', '.join(map(str,A-B)))\n",
    "    if A&B:\n",
    "        v2.get_label_by_id('11').set_text(', '.join(map(str,A&B)))"
   ]
  },
  {
   "cell_type": "markdown",
   "metadata": {},
   "source": [
    "## 1. Proving Identities\n"
   ]
  },
  {
   "cell_type": "markdown",
   "metadata": {},
   "source": [
    "## 2. Sets and Subsets\n",
    "- If A = {2,3,4,5}, and B = {$x \\in \\mathbb{N} | x \\ is \\ even$}. Is A $\\subset$ B? Show a proof.\n",
    "<br><br>Answer:<br>\n",
    "A = {2,3,4,5}<br>\n",
    "B = {$x \\in \\mathbb{N} | x \\ is \\ even$}<br>\n",
    "= {2,4,6,8,10...}<br>\n",
    "{2,3,4,5} $\\subset$ {2,4,6,8,10...} = ${False}$\n"
   ]
  },
  {
   "cell_type": "code",
   "execution_count": 5,
   "metadata": {},
   "outputs": [
    {
     "name": "stdout",
     "output_type": "stream",
     "text": [
      "is A proper subset of B? False\n"
     ]
    },
    {
     "data": {
      "image/png": "[encoded data removed]",
      "text/plain": [
       "<Figure size 640x480 with 1 Axes>"
      ]
     },
     "metadata": {},
     "output_type": "display_data"
    }
   ],
   "source": [
    "A = {2,3,4,5}\n",
    "B = {2,4,6,8,10}\n",
    "print(\"is A proper subset of B?\",A<B)\n",
    "drawVenn2(A,B)"
   ]
  },
  {
   "cell_type": "markdown",
   "metadata": {},
   "source": [
    "- Let sets $\\textbf{A} = \\{x|x \\in \\mathbb{Z}, 0 \\leq x \\leq 9\\},\n",
    "\\textbf{B} = \\{ 2,4,6,8\\},\n",
    "\\ and \\ \n",
    "\\textbf{C}  = \\{ 1,3,5,7,9\\}\n",
    "\\ and \\ \\textbf{D}  = \\{ 3,4,5\\}$\n",
    "Find a set $\\textbf{X}$ which will satisfy the following conditions:\n",
    "    1. $\\textbf{X} \\ and \\ \\textbf{B}$ are disjoint.\n",
    "    2. $\\textbf{X} \\subseteq \\textbf{D}$ but $\\textbf{X} \\nsubseteq \\textbf{B}$.\n",
    "    3. $\\textbf{X} \\subseteq \\textbf{A}$ but $\\textbf{X} \\not\\subset \\textbf{C}$."
   ]
  },
  {
   "cell_type": "markdown",
   "metadata": {},
   "source": [
    "A = {$x|x \\in \\mathbb{Z}, 0 \\leq x \\leq 9$} = {1,2,3,4,5,6,7,8,9}<br>\n",
    "B = {2,4,6,8}<br>\n",
    "C = {1,3,5,7,9}<br>\n",
    "D = {3,4,5}<br><br>\n",
    "\n",
    "Answer:<br>\n",
    "$X = \\varnothing$<br><br>\n",
    "    1. $\\textbf{X} \\ and \\ \\textbf{B}$ are disjoint. = True<br>\n",
    "    2. $\\textbf{X} \\subseteq \\textbf{D}$ = True but $\\textbf{X} \\nsubseteq \\textbf{B}$ = True<br>\n",
    "    3. $\\textbf{X} \\subseteq \\textbf{A}$ = True but $\\textbf{X} \\not\\subset \\textbf{C}$ = True<br>"
   ]
  },
  {
   "cell_type": "code",
   "execution_count": 40,
   "metadata": {},
   "outputs": [
    {
     "name": "stdout",
     "output_type": "stream",
     "text": [
      "True\n",
      "True True\n",
      "True True\n"
     ]
    }
   ],
   "source": [
    "X = set()\n",
    "A = {1,2,3,4,5,6,7,8,9}\n",
    "B = {2,4,6,8}\n",
    "C = {1,3,5,7,9}\n",
    "D = {3,4,5}\n",
    "\n",
    "print(X.isdisjoint(B))\n",
    "print(X.issubset(D),X.issubset(B))\n",
    "print(X.issubset(A),X.issubset(C))"
   ]
  },
  {
   "cell_type": "markdown",
   "metadata": {},
   "source": [
    "## 3. Set Operations"
   ]
  },
  {
   "cell_type": "markdown",
   "metadata": {},
   "source": [
    "Given:<br>\n",
    "$\\textbf{U} = \\{1,2,3,4,5\\}$<br>\n",
    "$\\textbf{A} = \\{1,2,3,4,5\\}$<br>\n",
    "$\\textbf{B} = \\{4,5,6,7\\}$<br>\n",
    "$\\textbf{C} = \\{5,6,7,8,9\\}$<br>\n",
    "$\\textbf{D} = \\{1,3,5,7,9\\}$<br>\n",
    "$\\textbf{E} = \\{2,4,6,8\\}$<br>\n",
    "$\\textbf{F} = \\{1,5,9\\}$<br>\n",
    "- $\\textbf{C} \\oplus \\textbf{D}$\n",
    "- $\\textbf{A} \\backslash \\textbf{B}$\n",
    "- $\\textbf{B} \\backslash \\textbf{A}$\n",
    "- $\\textbf{E} \\oplus \\textbf{F}$"
   ]
  },
  {
   "cell_type": "markdown",
   "metadata": {},
   "source": [
    "Answer:<br>\n",
    "C = {5,6,7,8,9}<br>\n",
    "D = {1,3,5,7,9}<br>\n",
    "C $\\oplus$ D = {1, 3, 6, 8}<br><br>\n",
    "A = {1,2,3,4,5}<br>\n",
    "B = {4,5,6,7}<br>\n",
    "A\\B = {1, 2, 3}<br><br>\n",
    "B = {4,5,6,7}<br>\n",
    "A = {1,2,3,4,5}<br>\n",
    "B\\A = {6, 7}<br><br>\n",
    "E = {2,4,6,8}<br>\n",
    "F = {1,5,9}<br>\n",
    "E $\\oplus$ F = {1, 2, 4, 5, 6, 8, 9}"
   ]
  },
  {
   "cell_type": "markdown",
   "metadata": {},
   "source": [
    "## 4. Finite Sets and The Counting Principles"
   ]
  },
  {
   "cell_type": "markdown",
   "metadata": {},
   "source": [
    "In a Survey of 120 People, it was found that:\n",
    "- 65 read Newsweek Magazine\n",
    "- 45 read Times Magazine\n",
    "- 42 read Fortune Magazine\n",
    "- 20 read Both Newsweek and Time\n",
    "- 25 read both Newsweek and Fortune\n",
    "- 15 read both Time and Fortune\n",
    "- 8 read all three magazines\n",
    "With these information do the following:<br>\n",
    "1. Draw the venn diagram using python.\n",
    "2. Find the number of people who read at $\\textbf{\"least one\"}$ of the three magazines.\n",
    "3. Find the number of people who read exactly one magazine."
   ]
  },
  {
   "cell_type": "markdown",
   "metadata": {},
   "source": [
    "### 1."
   ]
  },
  {
   "cell_type": "code",
   "execution_count": 7,
   "metadata": {},
   "outputs": [
    {
     "data": {
      "image/png": "[encoded data removed]",
      "text/plain": [
       "<Figure size 640x480 with 1 Axes>"
      ]
     },
     "metadata": {},
     "output_type": "display_data"
    }
   ],
   "source": [
    "venn3(subsets = (65,45,20,42,25,15,8), set_labels=('newspapers','times','fortune'))\n",
    "plt.show()"
   ]
  },
  {
   "cell_type": "markdown",
   "metadata": {},
   "source": [
    "### 2.\n",
    "- $|A \\cup B \\cup C| = |A| + |B| + |C| - |A \\cap B| - |A \\cap C| - |B \\cap C| + |A \\cap B \\cap C|$\n",
    "- $|N \\cup T \\cup F| = |N| + |T| + |F| - |N \\cap T| - |N \\cap F| - |T \\cap F| + |N \\cap T \\cap F|$\n",
    "- $|N \\cup T \\cup F| = 65+45+42-20-25-15+8$\n",
    "- $|N \\cup T \\cup F| = 100$ people read at least one magazine"
   ]
  },
  {
   "cell_type": "markdown",
   "metadata": {},
   "source": [
    "### 3.\n",
    "- $|A\\backslash B \\backslash C| = |A| - |A \\cap B| - |A \\cap C| + |A \\cup B \\cup C|:28 = 65-20-25+8$ \n",
    "- $|B\\backslash A \\backslash C| = |B| - |A \\cap B| - |B \\cap C| + |A \\cup B \\cup C|:18 = 45-20-15+8$\n",
    "- $|C\\backslash A \\backslash B| = |C| - |A \\cap C| - |B \\cap C| + |A \\cup B \\cup C|:10 = 42-25-15+8$<br><br>\n",
    "- $|A \\oplus B \\oplus C| = |(|A\\backslash B \\backslash C| \\cup |B\\backslash A \\backslash C| \\cup |C\\backslash A \\backslash B|)|$\n",
    "- $|A \\oplus B \\oplus C| = 28+18+10$\n",
    "- $|A \\oplus B \\oplus C| = 56$ people read only one magazine"
   ]
  },
  {
   "cell_type": "markdown",
   "metadata": {},
   "source": [
    "In a survey of 25 new cars being sold at a local auto dealer was conducted to see which of the three popular options: air-conditioning, denoted as A; radio, denoted as R; and power windows, denoted as W were installed. The survey found that:\n",
    "- 15 had A. HINT: The condition said $\\textbf{\"had an A\"}$  <font color='red'>$\\textbf{ AND NOT}$ <font color='black'>$\\textbf{\"had an A only\"}$\n",
    "- 12 had R. HINT: The condition said $\\textbf{\"had a R\"}$  <font color='red'>$\\textbf{ AND NOT}$ <font color='black'>$\\textbf{\"had a R only\"}$\n",
    "- 11 had W. HINT: The condition said $\\textbf{\"had a W\"}$  <font color='red'>$\\textbf{ AND NOT}$ <font color='black'>$\\textbf{\"had a W only\"}$\n",
    "- 5 had A and W.\n",
    "- 9 had A and R.\n",
    "- 4 had R and W.\n",
    "- Only 3 hace the three options.\n",
    "With these information do the following:<br>\n",
    "1. Draw the venn diagram using python.<br>\n",
    "2. Find the number of cars with W only.<br>\n",
    "3. Find the number of cars with A only.<br>\n",
    "4. Find the number of cars with R only.<br>\n",
    "5. Find the number of cars with both R and W but not A.<br>\n",
    "6. Find the number of cars with both A and R but not W.<br>\n",
    "7. Find the number of cars with only one of the options.<br>\n",
    "8. Find the number of cars with at least one option.<br>\n",
    "9. Find the number of cars with none of the Options.<br>"
   ]
  },
  {
   "cell_type": "markdown",
   "metadata": {},
   "source": [
    "Given:<br>\n",
    "- $U = 25$\n",
    "- $A = 15$\n",
    "- $R = 12$\n",
    "- $W = 11$\n",
    "- $A \\cap R = 9$\n",
    "- $A \\cap W = 5$\n",
    "- $R \\cap W = 4$\n",
    "- $A \\cap R \\cap W = 3$"
   ]
  },
  {
   "cell_type": "code",
   "execution_count": 8,
   "metadata": {},
   "outputs": [
    {
     "name": "stdout",
     "output_type": "stream",
     "text": [
      "1.\n"
     ]
    },
    {
     "data": {
      "image/png": "[encoded data removed]",
      "text/plain": [
       "<Figure size 640x480 with 1 Axes>"
      ]
     },
     "metadata": {},
     "output_type": "display_data"
    }
   ],
   "source": [
    "print(\"1.\")\n",
    "venn3(subsets = (15,12,9,11,5,4,3), set_labels=('A','R','W'))\n",
    "plt.show()"
   ]
  },
  {
   "cell_type": "markdown",
   "metadata": {},
   "source": [
    "2.<br>\n",
    "$|W \\backslash A \\backslash R| = |W| - |A \\cap W| - |R \\cap W| + |A \\cup W \\cup R|$\n",
    "- $|W \\backslash A \\backslash R| = 11 - 5 - 4 + 3$\n",
    "- $|W \\backslash A \\backslash R| = 5$"
   ]
  },
  {
   "cell_type": "markdown",
   "metadata": {},
   "source": [
    "3.<br>\n",
    "$|A \\backslash R \\backslash W| = |A| - |A \\cap R| - |A \\cap W| + |A \\cup W \\cup R|$\n",
    "- $|A \\backslash R \\backslash W| = 15 - 9 - 5 + 3$\n",
    "- $|A \\backslash R \\backslash W| = 4$"
   ]
  },
  {
   "cell_type": "markdown",
   "metadata": {},
   "source": [
    "4.<br>\n",
    "$|R \\backslash A \\backslash W| = |R| - |A \\cap R| - |R \\cap W| + |A \\cup W \\cup R|$\n",
    "- $|R \\backslash A \\backslash W| = 12 - 9 - 4 + 3$\n",
    "- $|R \\backslash A \\backslash W| = 2$"
   ]
  },
  {
   "cell_type": "markdown",
   "metadata": {},
   "source": [
    "5.<br> "
   ]
  },
  {
   "cell_type": "markdown",
   "metadata": {},
   "source": [
    "6.<br>"
   ]
  },
  {
   "cell_type": "markdown",
   "metadata": {},
   "source": [
    "7.<br>\n",
    "- $|A \\oplus R \\oplus W| = |(|A\\backslash R \\backslash W| \\cup |R\\backslash A \\backslash W| \\cup |W\\backslash A \\backslash R|)|$\n",
    "- $|A \\oplus R \\oplus W| = 4+2+5$\n",
    "- $|A \\oplus R \\oplus W| = 11$"
   ]
  },
  {
   "cell_type": "markdown",
   "metadata": {},
   "source": [
    "8.<br>\n",
    "- $|A \\cup R \\cup W| = |A| + |R| + |W| - |A \\cap R| - |A \\cap W| - |R \\cap W| + |A \\cap R \\cap W|$\n",
    "- $|A \\cup R \\cup W| = 15 + 12 + 11 - 9 - 5 - 4 + 3$\n",
    "- $|A \\cup R \\cup W| = 23$"
   ]
  },
  {
   "cell_type": "markdown",
   "metadata": {},
   "source": [
    "9.<br>\n",
    "- $U = 25$\n",
    "- $|A \\cup R \\cup W| = 23$\n",
    "- $|U \\backslash (|A \\cup R \\cup W|)| = 25 - 23$\n",
    " - $= 2$"
   ]
  }
 ],
 "metadata": {
  "kernelspec": {
   "display_name": "Python 3",
   "language": "python",
   "name": "python3"
  },
  "language_info": {
   "codemirror_mode": {
    "name": "ipython",
    "version": 3
   },
   "file_extension": ".py",
   "mimetype": "text/x-python",
   "name": "python",
   "nbconvert_exporter": "python",
   "pygments_lexer": "ipython3",
   "version": "3.10.11"
  },
  "orig_nbformat": 4
 },
 "nbformat": 4,
 "nbformat_minor": 2
}
