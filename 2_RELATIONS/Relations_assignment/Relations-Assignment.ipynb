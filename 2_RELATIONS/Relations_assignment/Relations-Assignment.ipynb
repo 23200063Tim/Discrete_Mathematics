{
 "cells": [
  {
   "cell_type": "code",
   "execution_count": 22,
   "metadata": {},
   "outputs": [],
   "source": [
    "### Pythonic Function for Reflexive Relation\n",
    "def reflexive(R, A):\n",
    "    \"\"\"Returns True if a relation R on set A is reflexive, False otherwise.\"\"\"\n",
    "    for a in A:\n",
    "        if (a, a) not in R:\n",
    "            return False\n",
    "    return True\n",
    "\n",
    "def symmetric(R, A):\n",
    "    \"\"\"Returns True if a relation R on set A is symmetric, False otherwise.\"\"\"\n",
    "    for a, b in R:\n",
    "        if (b, a) not in R:\n",
    "            return False\n",
    "    return True\n",
    "\n"
   ]
  },
  {
   "cell_type": "markdown",
   "metadata": {},
   "source": [
    "# Assignments\n",
    "---\n",
    "### Instructions:\n",
    "#### 1. Use Latex programming to show your solution.\n",
    "#### 2. For problems requiring the identification of reflexive, symmetric, and transitive properties of relation, show both manual solution via latex, and the solution using your python function.\n",
    "---\n",
    "* Given $A = \\{1,2,3,4\\}$ and $B=\\{x,y,z\\}$. Let $R$ be a relation from $A \\to B$:\n",
    "\\begin{equation}\n",
    "\\textbf{R} = \\{\n",
    "\\{1,y\\},\\{1,z\\},\\{3,y\\},\\{4,x\\},\\{4,z\\}\n",
    "\\}\n",
    "\\end{equation}\n",
    "1. Find all $aRb$.\n",
    "2. Find $R^{-1}$.\n",
    "3. Determine the domain and range of $R$.\n",
    "4. Check if $R$ is a reflexive relation.\n",
    "5. Check if $R$ is a symmetric relation.\n",
    "<br>\n",
    "<br>\n",
    "<br>\n",
    "* Given $A = \\{1,2,3,4\\}$,$C=\\{a,b,c\\}$, and $C=\\{x,y,z\\}$. Let $R$ be a relation from $A \\to B$:\n",
    "\n",
    "\\begin{equation}\n",
    "\\textbf{R} = \\{\n",
    "\\{1,b\\},\\{2,a\\},\\{2,c\\}\n",
    "\\}\n",
    "\\end{equation}\n",
    "<br>\n",
    "Also Let $S$ be a relation from $B \\to C$:\n",
    "\\begin{equation}\n",
    "\\textbf{S} = \\{\n",
    "\\{a,y\\},\\{b,x\\},\\{c,y\\},,\\{c,z\\}\n",
    "\\}\n",
    "\\end{equation}\n",
    "1. Find the composition relation $\\textbf{R}\\circ\\textbf{S}$.\n",
    "2. Find $R^{-1}$.\n",
    "3. Find $S^{-1}$.\n",
    "4. Determine the domain and range of $R$.\n",
    "5. Check if $R$ is a reflexive relation.\n",
    "6. Check if $R$ is a symmetric relation.\n",
    "7. Determine the domain and range of $S$.\n",
    "8. Check if $S$ is a reflexive relation.\n",
    "9. Check if $S$ is a symmetric relation.\n",
    "\n",
    "<br>\n",
    "* Given $A = \\{1,2,3,4\\}$. Let $R$ be a relation from $A \\to B$:\n",
    "\\begin{equation}\n",
    "\\textbf{R} = \\{\n",
    "\\{1,1\\},\\{2,2\\},\\{2,3\\},\\{3,2\\},\\{4,2\\},\\{4,4\\}\n",
    "\\}\n",
    "\\end{equation}\n",
    "<br>\n",
    "1. Find the composition relation $\\textbf{R}\\circ\\textbf{R}$.<br>\n",
    "2. Draw the directed graph of $R^{-1}$.\n",
    "3. Draw the directed graph of $R$.<br><br><br>\n",
    "* Let $R$ and $S$ be relations on $A = \\{1,2,3\\}$<br>\n",
    "let:<br>\n",
    "$\\textbf{R} = \\{\n",
    "\\{1,1\\},\\{1,2\\},\\{2,3\\},\\{3,1\\},\\{3,3\\}\n",
    "\\}$<br>\n",
    "let:<br>\n",
    "$\\textbf{S} = \\{\n",
    "\\{1,2\\},\\{1,3\\},\\{2,1\\},\\{3,3\\}\n",
    "\\}$<br>\n",
    "Find:<br>\n",
    "1. $R \\cup S$.<br>\n",
    "2. $R \\cap S$.<br>\n",
    "3. $R^{c}$.<br>\n",
    "4. $R \\circ S$.<br>\n",
    "5. $S \\circ S$.<br><br><br>\n",
    "* Consider the five relations on the set $A = \\{1,2,3\\}$:\n",
    "\\begin{equation}\n",
    "\\textbf{R} = \\{\n",
    "\\{1,1\\},\\{1,2\\},\\{1,3\\},\\{3,3\\}\n",
    "\\}\n",
    "\\end{equation}\n",
    "<br>\n",
    "\\begin{equation}\n",
    "\\textbf{S} = \\{\n",
    "\\{1,1\\},\\{1,2\\},\\{2,1\\},\\{2,2\\},\\{3,3\\}\n",
    "\\}\n",
    "\\end{equation}\n",
    "<br>\n",
    "\\begin{equation}\n",
    "\\textbf{T} = \\{\n",
    "\\{1,1\\},\\{1,2\\},\\{2,2\\},\\{2,3\\},\n",
    "\\}\n",
    "\\end{equation}\n",
    "<br>\n",
    "Which of the relations above are:<br>\n",
    "1. Reflexive.<br>\n",
    "2. Symmetric or anti-symmetric.<br>\n",
    "3. Transitive."
   ]
  },
  {
   "cell_type": "markdown",
   "metadata": {},
   "source": [
    "- Answers:"
   ]
  },
  {
   "cell_type": "code",
   "execution_count": 23,
   "metadata": {},
   "outputs": [],
   "source": [
    "def transitive(R, A):\n",
    "    for a in A:\n",
    "        for b in A:\n",
    "            if a != b:\n",
    "                if (a, b) in R:\n",
    "                    for c in A:\n",
    "                        if b != c:\n",
    "                            if (b, c) in R and (a, c) in R:\n",
    "                                return True\n",
    "    return False"
   ]
  },
  {
   "cell_type": "markdown",
   "metadata": {},
   "source": [
    "1. <br>\n",
    "- Given<br>\n",
    "$A = ${1,2,3,4}<br>\n",
    "$B = ${x,y,z}<br>\n",
    "$R = ${ {$1,y$} , {$1,z$} , {$3,y$} , {$4,x$} , {$4,z$} }<br>\n",
    "\n",
    "1. Find all $aRb$.\n",
    "- $A x B = $ {{1,x},{1,y},{1,z},{2,x},{2,y},{2,z},{3,x},{3,y},{3,z},{4,x},{4,y},{4,z}}<br>\n",
    "{1,y} $\\in R$, {1,z} $\\in R$, {3,y} $\\in R$, {4,x} $\\in R$, {4,z} $\\in R$, \n",
    "2. Find $R^{-1}$.\n",
    "- $R^{-1}=$ {{y,1}, {z,1}, {y,3}, {x,4}, {z,4}}\n",
    "3. Determine the domain and range of $R$.<br>\n",
    "- $Domain = 1,3,4$\n",
    "$Range = y,z,x$\n",
    "4. Check if $R$ is a reflexive relation.\n",
    "5. Check if $R$ is a symmetric relation."
   ]
  },
  {
   "cell_type": "code",
   "execution_count": 24,
   "metadata": {},
   "outputs": [
    {
     "name": "stdout",
     "output_type": "stream",
     "text": [
      "[(1, 'z'), (1, 'x'), (1, 'y'), (2, 'z'), (2, 'x'), (2, 'y'), (3, 'z'), (3, 'x'), (3, 'y'), (4, 'z'), (4, 'x'), (4, 'y')]\n",
      "[(1, 'y'), (2, 'z'), (3, 'y'), (4, 'x'), (4, 'z')]\n",
      "     reflexive:  False\n"
     ]
    }
   ],
   "source": [
    "\n",
    "A = {1,2,3,4}\n",
    "B = {'x','y','z'}\n",
    "R = [(1,'y'),(2,'z'),(3,'y'),(4,'x'),(4,'z')]\n",
    "AxB = [(x0, y0) for x0 in A for y0 in B]\n",
    "print(AxB)\n",
    "print(R)\n",
    "print(\"     reflexive: \", reflexive(R, AxB))"
   ]
  },
  {
   "cell_type": "code",
   "execution_count": 25,
   "metadata": {},
   "outputs": [
    {
     "name": "stdout",
     "output_type": "stream",
     "text": [
      "[(1, 'z'), (1, 'x'), (1, 'y'), (2, 'z'), (2, 'x'), (2, 'y'), (3, 'z'), (3, 'x'), (3, 'y'), (4, 'z'), (4, 'x'), (4, 'y')]\n",
      "[(1, 'y'), (2, 'z'), (3, 'y'), (4, 'x'), (4, 'z')]\n",
      "     Symmetric:  False\n"
     ]
    }
   ],
   "source": [
    "A = {1,2,3,4}\n",
    "B = {'x','y','z'}\n",
    "R = [(1,'y'),(2,'z'),(3,'y'),(4,'x'),(4,'z')]\n",
    "AxB = [(a, b) for a in A for b in B]\n",
    "print(AxB)\n",
    "print(R)\n",
    "print(\"     Symmetric: \",symmetric(R, AxB))"
   ]
  },
  {
   "cell_type": "markdown",
   "metadata": {},
   "source": [
    "2> <br>\n",
    "- Given<br>\n",
    "- A = {1,2,3,4}\n",
    "- B = {a,b,c}\n",
    "- C = {x,y,z}\n",
    "- $R = [(1,b),(2,a),(2,c)]$\n",
    "- $S = [(a,y),(b,x),(c,z)]$<br><br>\n",
    "\n",
    "1. Find the composition relation $\\textbf{R}\\circ\\textbf{S}$.\n",
    "![Alt text](image.png)\n",
    "- $\\textbf{R}\\circ\\textbf{S} = [(1,x),(2,y),(2,z)]$\n",
    "\n",
    "2. Find $R^{-1}$.\n",
    "- $R^{-1} = [(b,1),(a,2),(c,2)]$\n",
    "3. Find $S^{-1}$.\n",
    "- $S^{-1} = [(y,a),(x,b),(z,c)]$\n",
    "4. Determine the domain and range of $R$.\n",
    "- $Domain:1,2,2$\n",
    "- Range:b,a,c\n",
    "5. Check if $R$ is a reflexive relation.\n",
    "- False\n",
    "6. Check if $R$ is a symmetric relation.\n",
    "- False\n",
    "7. Determine the domain and range of $S$.\n",
    "- $Domain:a,b,c$\n",
    "- $Range:z,x,y$\n",
    "8. Check if $S$ is a reflexive relation.\n",
    "- False\n",
    "9. Check if $S$ is a symmetric relation.\n",
    "- False"
   ]
  },
  {
   "cell_type": "code",
   "execution_count": 26,
   "metadata": {},
   "outputs": [
    {
     "name": "stdout",
     "output_type": "stream",
     "text": [
      "[(1, 'c'), (1, 'b'), (1, 'a'), (2, 'c'), (2, 'b'), (2, 'a'), (3, 'c'), (3, 'b'), (3, 'a'), (4, 'c'), (4, 'b'), (4, 'a')]\n",
      "[(1, 'b'), (2, 'a'), (2, 'c')]\n",
      "reflexive:  False\n",
      "symmetric:  False\n"
     ]
    }
   ],
   "source": [
    "A = {1,2,3,4}\n",
    "B = {'a','b','c'}\n",
    "R = [(1,'b'),(2,'a'),(2,'c')]\n",
    "AxB = [(x0, y0) for x0 in A for y0 in B]\n",
    "print(AxB)\n",
    "print(R)\n",
    "print(\"reflexive: \",reflexive(R, AxB))\n",
    "print(\"symmetric: \",symmetric(R, AxB))"
   ]
  },
  {
   "cell_type": "code",
   "execution_count": 27,
   "metadata": {},
   "outputs": [
    {
     "name": "stdout",
     "output_type": "stream",
     "text": [
      "[('c', 'z'), ('c', 'x'), ('c', 'y'), ('b', 'z'), ('b', 'x'), ('b', 'y'), ('a', 'z'), ('a', 'x'), ('a', 'y')]\n",
      "[('a', 'y'), ('b', 'x'), ('c', 'z')]\n",
      "reflexive:  False\n",
      "symmetric:  False\n"
     ]
    }
   ],
   "source": [
    "B = {'a','b','c'}\n",
    "C = {'x','y','z'}\n",
    "S = [('a','y'),('b','x'),('c','z')]\n",
    "BxC = [(x0, y0) for x0 in B for y0 in C]\n",
    "print(BxC)\n",
    "print(S)\n",
    "print(\"reflexive: \",reflexive(S, BxC))\n",
    "print(\"symmetric: \",symmetric(S, BxC))"
   ]
  },
  {
   "cell_type": "markdown",
   "metadata": {},
   "source": [
    "3. \n",
    "- Given<br>\n",
    "$A = {1,2,3,4}$<br>\n",
    "$R = [(1,1),(2,2),(2,3),(3,2)(4,2)(4,4)]$\n",
    "\n",
    "1. Find the composition relation $\\textbf{R}\\circ\\textbf{R}$.\n",
    "- $\\textbf{R}\\circ\\textbf{R} = [(1,1),(2,2),(2,3),(3,2),(3,3),(4,2),(4,3),(4,4)]$\n",
    "2. Draw the directed graph of $R^{-1}$.\n",
    "- \n",
    "3. Draw the directed graph of $R$.\n",
    "- "
   ]
  },
  {
   "cell_type": "markdown",
   "metadata": {},
   "source": [
    "4. <br>\n",
    "- Given:<br>\n",
    "$A = {1,2,3}$<br>\n",
    "$R = [(1,1),(1,2),(2,3),(3,1),(3,3)]$<br>\n",
    "$S = [(1,2),(1,3),(2,1),(3,3)]$<br><br>\n",
    "Find:<br>\n",
    "1. $R \\cup S$.\n",
    "2. $R \\cap S$.\n",
    "3. $R^{c}$.<br>\n",
    "4. $R \\circ S$.\n",
    "5. $S \\circ S$."
   ]
  },
  {
   "cell_type": "code",
   "execution_count": 28,
   "metadata": {},
   "outputs": [
    {
     "name": "stdout",
     "output_type": "stream",
     "text": [
      "1. {(1, 2), (2, 1), (3, 1), (1, 1), (2, 3), (3, 3), (1, 3)}\n",
      "2. {(1, 2), (3, 3)}\n"
     ]
    }
   ],
   "source": [
    "A = {1,2,3}\n",
    "R = {(1,1),(1,2),(2,3),(3,1),(3,3)}\n",
    "S = {(1,2),(1,3),(2,1),(3,3)}\n",
    "print(\"1.\",R.union(S))\n",
    "print(\"2.\",R.intersection(S))"
   ]
  },
  {
   "cell_type": "markdown",
   "metadata": {},
   "source": [
    "5.\n",
    "- Given<br>\n",
    "$A = {1,2,3}$<br>\n",
    "$R = [(1,1),(2,2),(2,3),(3,2),(4,2),(4,4)]$<br>\n",
    "$S = [(1,1),(1,2),(2,1),(2,2),(2,3)]$<br>\n",
    "$T = [(1,1),(1,2),(2,2),(2,3)]$<br><br>\n",
    "Which of the relations above are:<br>\n",
    "1. Reflexive.<br>\n",
    "2. Symmetric or anti-symmetric.<br>\n",
    "3. Transitive."
   ]
  },
  {
   "cell_type": "code",
   "execution_count": 34,
   "metadata": {},
   "outputs": [
    {
     "name": "stdout",
     "output_type": "stream",
     "text": [
      "R reflexive A False\n",
      "R symmetric A False\n",
      "R transitive A True\n",
      "R reflexive S False\n",
      "R symmetric S False\n",
      "R transitive S False\n",
      "R reflexive T False\n",
      "R symmetric T False\n",
      "R transitive T False\n"
     ]
    }
   ],
   "source": [
    "A = {1,2,3}\n",
    "R = {(1,1),(2,2),(2,3),(3,2),(4,2),(4,4)}\n",
    "S = {(1,1),(1,2),(2,1),(2,2),(2,3)}\n",
    "T = {(1,1),(1,2),(2,2),(2,3)}\n",
    "print(\"R reflexive A\",reflexive(R, A))\n",
    "print(\"R symmetric A\",symmetric(R, A))\n",
    "print(\"R transitive A\",transitive(R, A))\n",
    "print(\"R reflexive S\",reflexive(R, S))\n",
    "print(\"R symmetric S\",symmetric(R, S))\n",
    "print(\"R transitive S\",transitive(R, S))\n",
    "print(\"R reflexive T\",reflexive(R, T))\n",
    "print(\"R symmetric T\",symmetric(R, T))\n",
    "print(\"R transitive T\",transitive(R, T))"
   ]
  }
 ],
 "metadata": {
  "kernelspec": {
   "display_name": "Python 3",
   "language": "python",
   "name": "python3"
  },
  "language_info": {
   "codemirror_mode": {
    "name": "ipython",
    "version": 3
   },
   "file_extension": ".py",
   "mimetype": "text/x-python",
   "name": "python",
   "nbconvert_exporter": "python",
   "pygments_lexer": "ipython3",
   "version": "3.10.11"
  },
  "orig_nbformat": 4
 },
 "nbformat": 4,
 "nbformat_minor": 2
}
